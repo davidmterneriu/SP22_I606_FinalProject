{
  "nbformat": 4,
  "nbformat_minor": 0,
  "metadata": {
    "colab": {
      "name": "node_embeddings.ipynb",
      "provenance": [],
      "collapsed_sections": []
    },
    "kernelspec": {
      "name": "python3",
      "display_name": "Python 3"
    },
    "language_info": {
      "name": "python"
    }
  },
  "cells": [
    {
      "cell_type": "code",
      "execution_count": 2,
      "metadata": {
        "colab": {
          "base_uri": "https://localhost:8080/"
        },
        "id": "YPoeA4r7oIXr",
        "outputId": "4bb843f7-4ed5-4833-c380-50b7763549fe"
      },
      "outputs": [
        {
          "output_type": "stream",
          "name": "stdout",
          "text": [
            "Collecting stellargraph\n",
            "  Downloading stellargraph-1.2.1-py3-none-any.whl (435 kB)\n",
            "\u001b[K     |████████████████████████████████| 435 kB 5.3 MB/s \n",
            "\u001b[?25hRequirement already satisfied: matplotlib>=2.2 in /usr/local/lib/python3.7/dist-packages (from stellargraph) (3.2.2)\n",
            "Requirement already satisfied: scikit-learn>=0.20 in /usr/local/lib/python3.7/dist-packages (from stellargraph) (1.0.2)\n",
            "Requirement already satisfied: numpy>=1.14 in /usr/local/lib/python3.7/dist-packages (from stellargraph) (1.21.6)\n",
            "Requirement already satisfied: pandas>=0.24 in /usr/local/lib/python3.7/dist-packages (from stellargraph) (1.3.5)\n",
            "Requirement already satisfied: networkx>=2.2 in /usr/local/lib/python3.7/dist-packages (from stellargraph) (2.6.3)\n",
            "Requirement already satisfied: tensorflow>=2.1.0 in /usr/local/lib/python3.7/dist-packages (from stellargraph) (2.8.0)\n",
            "Requirement already satisfied: gensim>=3.4.0 in /usr/local/lib/python3.7/dist-packages (from stellargraph) (3.6.0)\n",
            "Requirement already satisfied: scipy>=1.1.0 in /usr/local/lib/python3.7/dist-packages (from stellargraph) (1.4.1)\n",
            "Requirement already satisfied: smart-open>=1.2.1 in /usr/local/lib/python3.7/dist-packages (from gensim>=3.4.0->stellargraph) (5.2.1)\n",
            "Requirement already satisfied: six>=1.5.0 in /usr/local/lib/python3.7/dist-packages (from gensim>=3.4.0->stellargraph) (1.15.0)\n",
            "Requirement already satisfied: python-dateutil>=2.1 in /usr/local/lib/python3.7/dist-packages (from matplotlib>=2.2->stellargraph) (2.8.2)\n",
            "Requirement already satisfied: cycler>=0.10 in /usr/local/lib/python3.7/dist-packages (from matplotlib>=2.2->stellargraph) (0.11.0)\n",
            "Requirement already satisfied: pyparsing!=2.0.4,!=2.1.2,!=2.1.6,>=2.0.1 in /usr/local/lib/python3.7/dist-packages (from matplotlib>=2.2->stellargraph) (3.0.8)\n",
            "Requirement already satisfied: kiwisolver>=1.0.1 in /usr/local/lib/python3.7/dist-packages (from matplotlib>=2.2->stellargraph) (1.4.2)\n",
            "Requirement already satisfied: typing-extensions in /usr/local/lib/python3.7/dist-packages (from kiwisolver>=1.0.1->matplotlib>=2.2->stellargraph) (4.1.1)\n",
            "Requirement already satisfied: pytz>=2017.3 in /usr/local/lib/python3.7/dist-packages (from pandas>=0.24->stellargraph) (2022.1)\n",
            "Requirement already satisfied: joblib>=0.11 in /usr/local/lib/python3.7/dist-packages (from scikit-learn>=0.20->stellargraph) (1.1.0)\n",
            "Requirement already satisfied: threadpoolctl>=2.0.0 in /usr/local/lib/python3.7/dist-packages (from scikit-learn>=0.20->stellargraph) (3.1.0)\n",
            "Requirement already satisfied: tensorboard<2.9,>=2.8 in /usr/local/lib/python3.7/dist-packages (from tensorflow>=2.1.0->stellargraph) (2.8.0)\n",
            "Requirement already satisfied: astunparse>=1.6.0 in /usr/local/lib/python3.7/dist-packages (from tensorflow>=2.1.0->stellargraph) (1.6.3)\n",
            "Collecting tf-estimator-nightly==2.8.0.dev2021122109\n",
            "  Downloading tf_estimator_nightly-2.8.0.dev2021122109-py2.py3-none-any.whl (462 kB)\n",
            "\u001b[K     |████████████████████████████████| 462 kB 20.9 MB/s \n",
            "\u001b[?25hRequirement already satisfied: keras-preprocessing>=1.1.1 in /usr/local/lib/python3.7/dist-packages (from tensorflow>=2.1.0->stellargraph) (1.1.2)\n",
            "Requirement already satisfied: grpcio<2.0,>=1.24.3 in /usr/local/lib/python3.7/dist-packages (from tensorflow>=2.1.0->stellargraph) (1.44.0)\n",
            "Requirement already satisfied: opt-einsum>=2.3.2 in /usr/local/lib/python3.7/dist-packages (from tensorflow>=2.1.0->stellargraph) (3.3.0)\n",
            "Requirement already satisfied: setuptools in /usr/local/lib/python3.7/dist-packages (from tensorflow>=2.1.0->stellargraph) (57.4.0)\n",
            "Requirement already satisfied: h5py>=2.9.0 in /usr/local/lib/python3.7/dist-packages (from tensorflow>=2.1.0->stellargraph) (3.1.0)\n",
            "Requirement already satisfied: google-pasta>=0.1.1 in /usr/local/lib/python3.7/dist-packages (from tensorflow>=2.1.0->stellargraph) (0.2.0)\n",
            "Requirement already satisfied: absl-py>=0.4.0 in /usr/local/lib/python3.7/dist-packages (from tensorflow>=2.1.0->stellargraph) (1.0.0)\n",
            "Requirement already satisfied: termcolor>=1.1.0 in /usr/local/lib/python3.7/dist-packages (from tensorflow>=2.1.0->stellargraph) (1.1.0)\n",
            "Requirement already satisfied: libclang>=9.0.1 in /usr/local/lib/python3.7/dist-packages (from tensorflow>=2.1.0->stellargraph) (13.0.0)\n",
            "Requirement already satisfied: tensorflow-io-gcs-filesystem>=0.23.1 in /usr/local/lib/python3.7/dist-packages (from tensorflow>=2.1.0->stellargraph) (0.24.0)\n",
            "Requirement already satisfied: flatbuffers>=1.12 in /usr/local/lib/python3.7/dist-packages (from tensorflow>=2.1.0->stellargraph) (2.0)\n",
            "Requirement already satisfied: gast>=0.2.1 in /usr/local/lib/python3.7/dist-packages (from tensorflow>=2.1.0->stellargraph) (0.5.3)\n",
            "Requirement already satisfied: wrapt>=1.11.0 in /usr/local/lib/python3.7/dist-packages (from tensorflow>=2.1.0->stellargraph) (1.14.0)\n",
            "Requirement already satisfied: keras<2.9,>=2.8.0rc0 in /usr/local/lib/python3.7/dist-packages (from tensorflow>=2.1.0->stellargraph) (2.8.0)\n",
            "Requirement already satisfied: protobuf>=3.9.2 in /usr/local/lib/python3.7/dist-packages (from tensorflow>=2.1.0->stellargraph) (3.17.3)\n",
            "Requirement already satisfied: wheel<1.0,>=0.23.0 in /usr/local/lib/python3.7/dist-packages (from astunparse>=1.6.0->tensorflow>=2.1.0->stellargraph) (0.37.1)\n",
            "Requirement already satisfied: cached-property in /usr/local/lib/python3.7/dist-packages (from h5py>=2.9.0->tensorflow>=2.1.0->stellargraph) (1.5.2)\n",
            "Requirement already satisfied: requests<3,>=2.21.0 in /usr/local/lib/python3.7/dist-packages (from tensorboard<2.9,>=2.8->tensorflow>=2.1.0->stellargraph) (2.23.0)\n",
            "Requirement already satisfied: tensorboard-data-server<0.7.0,>=0.6.0 in /usr/local/lib/python3.7/dist-packages (from tensorboard<2.9,>=2.8->tensorflow>=2.1.0->stellargraph) (0.6.1)\n",
            "Requirement already satisfied: google-auth-oauthlib<0.5,>=0.4.1 in /usr/local/lib/python3.7/dist-packages (from tensorboard<2.9,>=2.8->tensorflow>=2.1.0->stellargraph) (0.4.6)\n",
            "Requirement already satisfied: google-auth<3,>=1.6.3 in /usr/local/lib/python3.7/dist-packages (from tensorboard<2.9,>=2.8->tensorflow>=2.1.0->stellargraph) (1.35.0)\n",
            "Requirement already satisfied: tensorboard-plugin-wit>=1.6.0 in /usr/local/lib/python3.7/dist-packages (from tensorboard<2.9,>=2.8->tensorflow>=2.1.0->stellargraph) (1.8.1)\n",
            "Requirement already satisfied: markdown>=2.6.8 in /usr/local/lib/python3.7/dist-packages (from tensorboard<2.9,>=2.8->tensorflow>=2.1.0->stellargraph) (3.3.6)\n",
            "Requirement already satisfied: werkzeug>=0.11.15 in /usr/local/lib/python3.7/dist-packages (from tensorboard<2.9,>=2.8->tensorflow>=2.1.0->stellargraph) (1.0.1)\n",
            "Requirement already satisfied: cachetools<5.0,>=2.0.0 in /usr/local/lib/python3.7/dist-packages (from google-auth<3,>=1.6.3->tensorboard<2.9,>=2.8->tensorflow>=2.1.0->stellargraph) (4.2.4)\n",
            "Requirement already satisfied: rsa<5,>=3.1.4 in /usr/local/lib/python3.7/dist-packages (from google-auth<3,>=1.6.3->tensorboard<2.9,>=2.8->tensorflow>=2.1.0->stellargraph) (4.8)\n",
            "Requirement already satisfied: pyasn1-modules>=0.2.1 in /usr/local/lib/python3.7/dist-packages (from google-auth<3,>=1.6.3->tensorboard<2.9,>=2.8->tensorflow>=2.1.0->stellargraph) (0.2.8)\n",
            "Requirement already satisfied: requests-oauthlib>=0.7.0 in /usr/local/lib/python3.7/dist-packages (from google-auth-oauthlib<0.5,>=0.4.1->tensorboard<2.9,>=2.8->tensorflow>=2.1.0->stellargraph) (1.3.1)\n",
            "Requirement already satisfied: importlib-metadata>=4.4 in /usr/local/lib/python3.7/dist-packages (from markdown>=2.6.8->tensorboard<2.9,>=2.8->tensorflow>=2.1.0->stellargraph) (4.11.3)\n",
            "Requirement already satisfied: zipp>=0.5 in /usr/local/lib/python3.7/dist-packages (from importlib-metadata>=4.4->markdown>=2.6.8->tensorboard<2.9,>=2.8->tensorflow>=2.1.0->stellargraph) (3.8.0)\n",
            "Requirement already satisfied: pyasn1<0.5.0,>=0.4.6 in /usr/local/lib/python3.7/dist-packages (from pyasn1-modules>=0.2.1->google-auth<3,>=1.6.3->tensorboard<2.9,>=2.8->tensorflow>=2.1.0->stellargraph) (0.4.8)\n",
            "Requirement already satisfied: urllib3!=1.25.0,!=1.25.1,<1.26,>=1.21.1 in /usr/local/lib/python3.7/dist-packages (from requests<3,>=2.21.0->tensorboard<2.9,>=2.8->tensorflow>=2.1.0->stellargraph) (1.24.3)\n",
            "Requirement already satisfied: chardet<4,>=3.0.2 in /usr/local/lib/python3.7/dist-packages (from requests<3,>=2.21.0->tensorboard<2.9,>=2.8->tensorflow>=2.1.0->stellargraph) (3.0.4)\n",
            "Requirement already satisfied: certifi>=2017.4.17 in /usr/local/lib/python3.7/dist-packages (from requests<3,>=2.21.0->tensorboard<2.9,>=2.8->tensorflow>=2.1.0->stellargraph) (2021.10.8)\n",
            "Requirement already satisfied: idna<3,>=2.5 in /usr/local/lib/python3.7/dist-packages (from requests<3,>=2.21.0->tensorboard<2.9,>=2.8->tensorflow>=2.1.0->stellargraph) (2.10)\n",
            "Requirement already satisfied: oauthlib>=3.0.0 in /usr/local/lib/python3.7/dist-packages (from requests-oauthlib>=0.7.0->google-auth-oauthlib<0.5,>=0.4.1->tensorboard<2.9,>=2.8->tensorflow>=2.1.0->stellargraph) (3.2.0)\n",
            "Installing collected packages: tf-estimator-nightly, stellargraph\n",
            "Successfully installed stellargraph-1.2.1 tf-estimator-nightly-2.8.0.dev2021122109\n"
          ]
        }
      ],
      "source": [
        "!pip install stellargraph"
      ]
    },
    {
      "cell_type": "code",
      "source": [
        "import matplotlib.pyplot as plt\n",
        "from math import isclose\n",
        "from sklearn.decomposition import PCA\n",
        "import os\n",
        "import networkx as nx\n",
        "import numpy as np\n",
        "import pandas as pd\n",
        "from stellargraph import StellarGraph, datasets\n",
        "from stellargraph.data import EdgeSplitter\n",
        "from collections import Counter\n",
        "import multiprocessing\n",
        "from IPython.display import display, HTML\n",
        "from sklearn.model_selection import train_test_split\n",
        "\n",
        "%matplotlib inline\n",
        "\n",
        "from google.colab import files"
      ],
      "metadata": {
        "id": "Uyw8chZRoYVe"
      },
      "execution_count": 3,
      "outputs": []
    },
    {
      "cell_type": "code",
      "source": [
        "p = 1.0\n",
        "q = 1.0\n",
        "dimensions = 128\n",
        "num_walks = 10\n",
        "walk_length = 80\n",
        "window_size = 10\n",
        "num_iter = 1\n",
        "workers = multiprocessing.cpu_count()\n",
        "print(workers)"
      ],
      "metadata": {
        "id": "M2wC_3EWooVh",
        "colab": {
          "base_uri": "https://localhost:8080/"
        },
        "outputId": "3b5d038f-7de1-4737-d9c4-b81cdde0a829"
      },
      "execution_count": 4,
      "outputs": [
        {
          "output_type": "stream",
          "name": "stdout",
          "text": [
            "2\n"
          ]
        }
      ]
    },
    {
      "cell_type": "code",
      "source": [
        "from stellargraph.data import BiasedRandomWalk\n",
        "from gensim.models import Word2Vec\n",
        "\n",
        "def node2vec_embedding(graph, graph_name):\n",
        "    random_walker = BiasedRandomWalk(graph)\n",
        "    walks = random_walker.run(graph.nodes(), n=num_walks, length=walk_length, p=p, q=q)\n",
        "    print('Number of random walks for \"{}\": {}'.format(graph_name, len(walks)))\n",
        "    model = Word2Vec(walks, workers=workers, window =window_size, size=dimensions,iter=num_iter)\n",
        "    def get_embedding(u):\n",
        "        return model.wv[u]\n",
        "    \n",
        "    return get_embedding"
      ],
      "metadata": {
        "id": "tpebC_Y-ordq"
      },
      "execution_count": null,
      "outputs": []
    },
    {
      "cell_type": "code",
      "source": [
        "url = 'https://raw.githubusercontent.com/davidmterneriu/SP22_I606_FinalProject/main/2019.1.csv'\n",
        "df1 = pd.read_csv(url)"
      ],
      "metadata": {
        "id": "NsXVL02gtbgH"
      },
      "execution_count": null,
      "outputs": []
    },
    {
      "cell_type": "code",
      "source": [
        "g1 = StellarGraph(edges=df1)"
      ],
      "metadata": {
        "id": "DtZRneVCuELk"
      },
      "execution_count": null,
      "outputs": []
    },
    {
      "cell_type": "code",
      "source": [
        "test_embbed=node2vec_embedding(g1,graph_name=\"2019.1\")"
      ],
      "metadata": {
        "colab": {
          "base_uri": "https://localhost:8080/"
        },
        "id": "x6pufPZPuI51",
        "outputId": "d9f8b056-fa05-4397-da31-5095a0143ec1"
      },
      "execution_count": null,
      "outputs": [
        {
          "output_type": "stream",
          "name": "stdout",
          "text": [
            "Number of random walks for \"2019.1\": 5230\n"
          ]
        }
      ]
    },
    {
      "cell_type": "code",
      "source": [
        "def operator_hadamard(u, v):\n",
        "    return u * v\n",
        "\n",
        "def edge_examples_to_embeddings(edges_examples, transform_node, binary_operator):\n",
        "    edge_embeddings = []\n",
        "   \n",
        "    for src, dest in edges_examples:\n",
        "      p1=binary_operator(transform_node(src),transform_node(dest))\n",
        "      edge_embeddings.append(p1)\n",
        "    return edge_embeddings"
      ],
      "metadata": {
        "id": "jl-eXXVIvVt0"
      },
      "execution_count": null,
      "outputs": []
    },
    {
      "cell_type": "code",
      "source": [
        "ex_edges=g1.edges()"
      ],
      "metadata": {
        "id": "cgLWVgbwvfFv"
      },
      "execution_count": null,
      "outputs": []
    },
    {
      "cell_type": "code",
      "source": [
        "len(ex_edges)"
      ],
      "metadata": {
        "colab": {
          "base_uri": "https://localhost:8080/"
        },
        "id": "m5n61TidwtXu",
        "outputId": "72204a39-a3f6-4938-8559-47ad94a9f45b"
      },
      "execution_count": null,
      "outputs": [
        {
          "output_type": "execute_result",
          "data": {
            "text/plain": [
              "2706"
            ]
          },
          "metadata": {},
          "execution_count": 23
        }
      ]
    },
    {
      "cell_type": "code",
      "source": [
        "ex1=edge_examples_to_embeddings(edges_examples=ex_edges,transform_node=test_embbed,binary_operator=operator_hadamard)"
      ],
      "metadata": {
        "id": "o40XAWmQwDUR"
      },
      "execution_count": null,
      "outputs": []
    },
    {
      "cell_type": "code",
      "source": [
        "pd.DataFrame(ex1).to_csv('filename.csv') \n",
        "files.download('filename.csv')"
      ],
      "metadata": {
        "colab": {
          "base_uri": "https://localhost:8080/",
          "height": 17
        },
        "id": "HIHPDlKewLra",
        "outputId": "3570699c-e855-408a-8b88-1219ac839f21"
      },
      "execution_count": null,
      "outputs": [
        {
          "output_type": "display_data",
          "data": {
            "text/plain": [
              "<IPython.core.display.Javascript object>"
            ],
            "application/javascript": [
              "\n",
              "    async function download(id, filename, size) {\n",
              "      if (!google.colab.kernel.accessAllowed) {\n",
              "        return;\n",
              "      }\n",
              "      const div = document.createElement('div');\n",
              "      const label = document.createElement('label');\n",
              "      label.textContent = `Downloading \"${filename}\": `;\n",
              "      div.appendChild(label);\n",
              "      const progress = document.createElement('progress');\n",
              "      progress.max = size;\n",
              "      div.appendChild(progress);\n",
              "      document.body.appendChild(div);\n",
              "\n",
              "      const buffers = [];\n",
              "      let downloaded = 0;\n",
              "\n",
              "      const channel = await google.colab.kernel.comms.open(id);\n",
              "      // Send a message to notify the kernel that we're ready.\n",
              "      channel.send({})\n",
              "\n",
              "      for await (const message of channel.messages) {\n",
              "        // Send a message to notify the kernel that we're ready.\n",
              "        channel.send({})\n",
              "        if (message.buffers) {\n",
              "          for (const buffer of message.buffers) {\n",
              "            buffers.push(buffer);\n",
              "            downloaded += buffer.byteLength;\n",
              "            progress.value = downloaded;\n",
              "          }\n",
              "        }\n",
              "      }\n",
              "      const blob = new Blob(buffers, {type: 'application/binary'});\n",
              "      const a = document.createElement('a');\n",
              "      a.href = window.URL.createObjectURL(blob);\n",
              "      a.download = filename;\n",
              "      div.appendChild(a);\n",
              "      a.click();\n",
              "      div.remove();\n",
              "    }\n",
              "  "
            ]
          },
          "metadata": {}
        },
        {
          "output_type": "display_data",
          "data": {
            "text/plain": [
              "<IPython.core.display.Javascript object>"
            ],
            "application/javascript": [
              "download(\"download_c5819111-2d38-4dd9-8b26-358843d9db92\", \"filename.csv\", 4019492)"
            ]
          },
          "metadata": {}
        }
      ]
    },
    {
      "cell_type": "markdown",
      "source": [
        "Main Looop "
      ],
      "metadata": {
        "id": "BZxpq3vZzl62"
      }
    },
    {
      "cell_type": "code",
      "source": [
        "url_collection = ['https://raw.githubusercontent.com/davidmterneriu/SP22_I606_FinalProject/main/2019.1.csv',\n",
        "                  'https://raw.githubusercontent.com/davidmterneriu/SP22_I606_FinalProject/main/2019.2.csv',\n",
        "                  'https://raw.githubusercontent.com/davidmterneriu/SP22_I606_FinalProject/main/2019.3.csv',\n",
        "                  'https://raw.githubusercontent.com/davidmterneriu/SP22_I606_FinalProject/main/2019.4.csv',\n",
        "                  'https://raw.githubusercontent.com/davidmterneriu/SP22_I606_FinalProject/main/2019.5.csv',\n",
        "                  'https://raw.githubusercontent.com/davidmterneriu/SP22_I606_FinalProject/main/2019.6.csv',\n",
        "                  'https://raw.githubusercontent.com/davidmterneriu/SP22_I606_FinalProject/main/2019.7.csv',\n",
        "                  'https://raw.githubusercontent.com/davidmterneriu/SP22_I606_FinalProject/main/2019.8.csv',\n",
        "                  'https://raw.githubusercontent.com/davidmterneriu/SP22_I606_FinalProject/main/2019.9.csv',\n",
        "                  'https://raw.githubusercontent.com/davidmterneriu/SP22_I606_FinalProject/main/2019.10.csv',\n",
        "                  'https://raw.githubusercontent.com/davidmterneriu/SP22_I606_FinalProject/main/2019.11.csv',\n",
        "                  'https://raw.githubusercontent.com/davidmterneriu/SP22_I606_FinalProject/main/2019.12.csv',\n",
        "                  'https://raw.githubusercontent.com/davidmterneriu/SP22_I606_FinalProject/main/2020.1.csv',\n",
        "                  'https://raw.githubusercontent.com/davidmterneriu/SP22_I606_FinalProject/main/2020.2.csv',\n",
        "                  'https://raw.githubusercontent.com/davidmterneriu/SP22_I606_FinalProject/main/2020.3.csv',\n",
        "                  'https://raw.githubusercontent.com/davidmterneriu/SP22_I606_FinalProject/main/2020.4.csv',\n",
        "                  'https://raw.githubusercontent.com/davidmterneriu/SP22_I606_FinalProject/main/2020.5.csv',\n",
        "                  'https://raw.githubusercontent.com/davidmterneriu/SP22_I606_FinalProject/main/2020.6.csv',\n",
        "                  'https://raw.githubusercontent.com/davidmterneriu/SP22_I606_FinalProject/main/2020.7.csv',\n",
        "                  'https://raw.githubusercontent.com/davidmterneriu/SP22_I606_FinalProject/main/2020.8.csv',\n",
        "                  'https://raw.githubusercontent.com/davidmterneriu/SP22_I606_FinalProject/main/2020.9.csv',\n",
        "                  'https://raw.githubusercontent.com/davidmterneriu/SP22_I606_FinalProject/main/2020.10.csv',\n",
        "                  'https://raw.githubusercontent.com/davidmterneriu/SP22_I606_FinalProject/main/2020.11.csv',\n",
        "                  'https://raw.githubusercontent.com/davidmterneriu/SP22_I606_FinalProject/main/2020.12.csv',\n",
        "                  'https://raw.githubusercontent.com/davidmterneriu/SP22_I606_FinalProject/main/2021.1.csv',\n",
        "                  'https://raw.githubusercontent.com/davidmterneriu/SP22_I606_FinalProject/main/2021.2.csv',\n",
        "                  'https://raw.githubusercontent.com/davidmterneriu/SP22_I606_FinalProject/main/2021.3.csv',\n",
        "                  'https://raw.githubusercontent.com/davidmterneriu/SP22_I606_FinalProject/main/2021.4.csv',\n",
        "                  'https://raw.githubusercontent.com/davidmterneriu/SP22_I606_FinalProject/main/2021.5.csv',\n",
        "                  'https://raw.githubusercontent.com/davidmterneriu/SP22_I606_FinalProject/main/2021.6.csv',\n",
        "                  'https://raw.githubusercontent.com/davidmterneriu/SP22_I606_FinalProject/main/2021.7.csv',\n",
        "                  'https://raw.githubusercontent.com/davidmterneriu/SP22_I606_FinalProject/main/2021.8.csv',\n",
        "                  'https://raw.githubusercontent.com/davidmterneriu/SP22_I606_FinalProject/main/2021.9.csv',\n",
        "                  'https://raw.githubusercontent.com/davidmterneriu/SP22_I606_FinalProject/main/2021.10.csv',\n",
        "                  'https://raw.githubusercontent.com/davidmterneriu/SP22_I606_FinalProject/main/2021.11.csv',\n",
        "                  'https://raw.githubusercontent.com/davidmterneriu/SP22_I606_FinalProject/main/2021.12.csv']"
      ],
      "metadata": {
        "id": "OMBXlUwTznxE"
      },
      "execution_count": null,
      "outputs": []
    },
    {
      "cell_type": "code",
      "source": [
        "counter=0\n",
        "myDataFrame = pd.DataFrame()\n",
        "for i in range(0,len(url_collection)): \n",
        "  print(i)\n",
        "  test_url=url_collection[i]\n",
        "  df1 = pd.read_csv(test_url)\n",
        "  g1 = StellarGraph(edges=df1)\n",
        "  test_embbed=node2vec_embedding(g1,graph_name=\"Graph\"+str(counter))\n",
        "  ex_edges=g1.edges()\n",
        "  ex1=edge_examples_to_embeddings(edges_examples=ex_edges,transform_node=test_embbed,binary_operator=operator_hadamard)\n",
        "  df1=pd.DataFrame(ex1)\n",
        "  df1[\"year\"]=counter\n",
        "  myDataFrame = myDataFrame.append(df1)\n",
        "  \n",
        "  #f_name=\"Graph_\"+str(counter)+\".csv\"\n",
        "  #pd.DataFrame(ex1).to_csv(f_name) \n",
        "  #files.download(f_name)\n",
        "  counter+=1"
      ],
      "metadata": {
        "colab": {
          "base_uri": "https://localhost:8080/"
        },
        "id": "R2FUjRa40ozC",
        "outputId": "1a207482-525b-46dd-8f56-dde500b845c4"
      },
      "execution_count": null,
      "outputs": [
        {
          "output_type": "stream",
          "name": "stdout",
          "text": [
            "0\n",
            "Number of random walks for \"Graph0\": 5230\n",
            "1\n",
            "Number of random walks for \"Graph1\": 5230\n",
            "2\n",
            "Number of random walks for \"Graph2\": 5210\n",
            "3\n",
            "Number of random walks for \"Graph3\": 5240\n",
            "4\n",
            "Number of random walks for \"Graph4\": 5170\n",
            "5\n",
            "Number of random walks for \"Graph5\": 5170\n",
            "6\n",
            "Number of random walks for \"Graph6\": 5160\n",
            "7\n",
            "Number of random walks for \"Graph7\": 5150\n",
            "8\n",
            "Number of random walks for \"Graph8\": 5130\n",
            "9\n",
            "Number of random walks for \"Graph9\": 5140\n",
            "10\n",
            "Number of random walks for \"Graph10\": 5130\n",
            "11\n",
            "Number of random walks for \"Graph11\": 5100\n",
            "12\n",
            "Number of random walks for \"Graph12\": 5060\n",
            "13\n",
            "Number of random walks for \"Graph13\": 5020\n",
            "14\n",
            "Number of random walks for \"Graph14\": 4980\n",
            "15\n",
            "Number of random walks for \"Graph15\": 4940\n",
            "16\n",
            "Number of random walks for \"Graph16\": 4930\n",
            "17\n",
            "Number of random walks for \"Graph17\": 4880\n",
            "18\n",
            "Number of random walks for \"Graph18\": 4840\n",
            "19\n",
            "Number of random walks for \"Graph19\": 4840\n",
            "20\n",
            "Number of random walks for \"Graph20\": 4810\n",
            "21\n",
            "Number of random walks for \"Graph21\": 4800\n",
            "22\n",
            "Number of random walks for \"Graph22\": 4730\n",
            "23\n",
            "Number of random walks for \"Graph23\": 4740\n",
            "24\n",
            "Number of random walks for \"Graph24\": 4770\n",
            "25\n",
            "Number of random walks for \"Graph25\": 4810\n",
            "26\n",
            "Number of random walks for \"Graph26\": 4850\n",
            "27\n",
            "Number of random walks for \"Graph27\": 4870\n",
            "28\n",
            "Number of random walks for \"Graph28\": 4870\n",
            "29\n",
            "Number of random walks for \"Graph29\": 4860\n",
            "30\n",
            "Number of random walks for \"Graph30\": 4840\n",
            "31\n",
            "Number of random walks for \"Graph31\": 4840\n",
            "32\n",
            "Number of random walks for \"Graph32\": 4820\n",
            "33\n",
            "Number of random walks for \"Graph33\": 4770\n",
            "34\n",
            "Number of random walks for \"Graph34\": 4810\n",
            "35\n",
            "Number of random walks for \"Graph35\": 4830\n"
          ]
        }
      ]
    },
    {
      "cell_type": "code",
      "source": [
        "myDataFrame\n",
        "f_name=\"Graph_\"+str(counter)+\".csv\"\n",
        "myDataFrame.to_csv(f_name) \n",
        "files.download(f_name)"
      ],
      "metadata": {
        "colab": {
          "base_uri": "https://localhost:8080/",
          "height": 34
        },
        "id": "h244EqG4LVjb",
        "outputId": "29e1319e-1b01-4473-c4c3-2c3222962ea5"
      },
      "execution_count": null,
      "outputs": [
        {
          "output_type": "display_data",
          "data": {
            "text/plain": [
              "<IPython.core.display.Javascript object>"
            ],
            "application/javascript": [
              "\n",
              "    async function download(id, filename, size) {\n",
              "      if (!google.colab.kernel.accessAllowed) {\n",
              "        return;\n",
              "      }\n",
              "      const div = document.createElement('div');\n",
              "      const label = document.createElement('label');\n",
              "      label.textContent = `Downloading \"${filename}\": `;\n",
              "      div.appendChild(label);\n",
              "      const progress = document.createElement('progress');\n",
              "      progress.max = size;\n",
              "      div.appendChild(progress);\n",
              "      document.body.appendChild(div);\n",
              "\n",
              "      const buffers = [];\n",
              "      let downloaded = 0;\n",
              "\n",
              "      const channel = await google.colab.kernel.comms.open(id);\n",
              "      // Send a message to notify the kernel that we're ready.\n",
              "      channel.send({})\n",
              "\n",
              "      for await (const message of channel.messages) {\n",
              "        // Send a message to notify the kernel that we're ready.\n",
              "        channel.send({})\n",
              "        if (message.buffers) {\n",
              "          for (const buffer of message.buffers) {\n",
              "            buffers.push(buffer);\n",
              "            downloaded += buffer.byteLength;\n",
              "            progress.value = downloaded;\n",
              "          }\n",
              "        }\n",
              "      }\n",
              "      const blob = new Blob(buffers, {type: 'application/binary'});\n",
              "      const a = document.createElement('a');\n",
              "      a.href = window.URL.createObjectURL(blob);\n",
              "      a.download = filename;\n",
              "      div.appendChild(a);\n",
              "      a.click();\n",
              "      div.remove();\n",
              "    }\n",
              "  "
            ]
          },
          "metadata": {}
        },
        {
          "output_type": "display_data",
          "data": {
            "text/plain": [
              "<IPython.core.display.Javascript object>"
            ],
            "application/javascript": [
              "download(\"download_b9fcc19b-d210-4061-a3cc-42a7d9537aa9\", \"Graph_36.csv\", 136384325)"
            ]
          },
          "metadata": {}
        }
      ]
    }
  ]
}